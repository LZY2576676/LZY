{
 "cells": [
  {
   "cell_type": "code",
   "execution_count": 1,
   "metadata": {
    "execution": {
     "iopub.execute_input": "2023-11-26T11:01:11.377382Z",
     "iopub.status.busy": "2023-11-26T11:01:11.376902Z",
     "iopub.status.idle": "2023-11-26T11:01:12.875321Z",
     "shell.execute_reply": "2023-11-26T11:01:12.874142Z"
    },
    "papermill": {
     "duration": 1.51463,
     "end_time": "2023-11-26T11:01:12.878152",
     "exception": false,
     "start_time": "2023-11-26T11:01:11.363522",
     "status": "completed"
    },
    "tags": []
   },
   "outputs": [],
   "source": [
    "#Libraries for data preprocessing and visualization\n",
    "import pandas as pd\n",
    "import numpy as np\n",
    "import matplotlib.pyplot as plt\n",
    "import matplotlib.image as mpimg\n",
    "import seaborn as sns\n",
    "sns.set(style='white', context='notebook', palette='deep')\n",
    "\n",
    "\n",
    "np.random.seed(2)"
   ]
  },
  {
   "cell_type": "code",
   "execution_count": 2,
   "metadata": {
    "execution": {
     "iopub.execute_input": "2023-11-26T11:01:12.926984Z",
     "iopub.status.busy": "2023-11-26T11:01:12.926656Z",
     "iopub.status.idle": "2023-11-26T11:01:13.236514Z",
     "shell.execute_reply": "2023-11-26T11:01:13.235512Z"
    },
    "papermill": {
     "duration": 0.325193,
     "end_time": "2023-11-26T11:01:13.239290",
     "exception": false,
     "start_time": "2023-11-26T11:01:12.914097",
     "status": "completed"
    },
    "tags": []
   },
   "outputs": [],
   "source": [
    "#Libraries for data splitting and confusion matrix\n",
    "from sklearn.model_selection import train_test_split\n",
    "from sklearn.metrics import confusion_matrix\n",
    "\n",
    "\n",
    "import itertools"
   ]
  },
  {
   "cell_type": "code",
   "execution_count": 3,
   "metadata": {
    "execution": {
     "iopub.execute_input": "2023-11-26T11:01:13.289111Z",
     "iopub.status.busy": "2023-11-26T11:01:13.288784Z",
     "iopub.status.idle": "2023-11-26T11:01:25.074514Z",
     "shell.execute_reply": "2023-11-26T11:01:25.073559Z"
    },
    "papermill": {
     "duration": 11.801535,
     "end_time": "2023-11-26T11:01:25.077267",
     "exception": false,
     "start_time": "2023-11-26T11:01:13.275732",
     "status": "completed"
    },
    "tags": []
   },
   "outputs": [],
   "source": [
    "#Libraries for deep learning\n",
    "from keras.utils.np_utils import to_categorical\n",
    "from keras.models import Sequential\n",
    "from keras.layers import Dense, Dropout, Flatten, Conv2D, MaxPool2D\n",
    "from keras.optimizers import RMSprop\n",
    "from keras.preprocessing.image import ImageDataGenerator\n",
    "from keras.callbacks import ReduceLROnPlateau"
   ]
  },
  {
   "cell_type": "code",
   "execution_count": 5,
   "metadata": {
    "execution": {
     "iopub.execute_input": "2023-11-26T11:01:31.084036Z",
     "iopub.status.busy": "2023-11-26T11:01:31.082768Z",
     "iopub.status.idle": "2023-11-26T11:01:31.113953Z",
     "shell.execute_reply": "2023-11-26T11:01:31.112869Z"
    },
    "papermill": {
     "duration": 0.047458,
     "end_time": "2023-11-26T11:01:31.116567",
     "exception": false,
     "start_time": "2023-11-26T11:01:31.069109",
     "status": "completed"
    },
    "tags": []
   },
   "outputs": [
    {
     "data": {
      "text/html": [
       "<div>\n",
       "<style scoped>\n",
       "    .dataframe tbody tr th:only-of-type {\n",
       "        vertical-align: middle;\n",
       "    }\n",
       "\n",
       "    .dataframe tbody tr th {\n",
       "        vertical-align: top;\n",
       "    }\n",
       "\n",
       "    .dataframe thead th {\n",
       "        text-align: right;\n",
       "    }\n",
       "</style>\n",
       "<table border=\"1\" class=\"dataframe\">\n",
       "  <thead>\n",
       "    <tr style=\"text-align: right;\">\n",
       "      <th></th>\n",
       "      <th>label</th>\n",
       "      <th>pixel0</th>\n",
       "      <th>pixel1</th>\n",
       "      <th>pixel2</th>\n",
       "      <th>pixel3</th>\n",
       "      <th>pixel4</th>\n",
       "      <th>pixel5</th>\n",
       "      <th>pixel6</th>\n",
       "      <th>pixel7</th>\n",
       "      <th>pixel8</th>\n",
       "      <th>...</th>\n",
       "      <th>pixel774</th>\n",
       "      <th>pixel775</th>\n",
       "      <th>pixel776</th>\n",
       "      <th>pixel777</th>\n",
       "      <th>pixel778</th>\n",
       "      <th>pixel779</th>\n",
       "      <th>pixel780</th>\n",
       "      <th>pixel781</th>\n",
       "      <th>pixel782</th>\n",
       "      <th>pixel783</th>\n",
       "    </tr>\n",
       "  </thead>\n",
       "  <tbody>\n",
       "    <tr>\n",
       "      <th>0</th>\n",
       "      <td>1</td>\n",
       "      <td>0</td>\n",
       "      <td>0</td>\n",
       "      <td>0</td>\n",
       "      <td>0</td>\n",
       "      <td>0</td>\n",
       "      <td>0</td>\n",
       "      <td>0</td>\n",
       "      <td>0</td>\n",
       "      <td>0</td>\n",
       "      <td>...</td>\n",
       "      <td>0</td>\n",
       "      <td>0</td>\n",
       "      <td>0</td>\n",
       "      <td>0</td>\n",
       "      <td>0</td>\n",
       "      <td>0</td>\n",
       "      <td>0</td>\n",
       "      <td>0</td>\n",
       "      <td>0</td>\n",
       "      <td>0</td>\n",
       "    </tr>\n",
       "    <tr>\n",
       "      <th>1</th>\n",
       "      <td>0</td>\n",
       "      <td>0</td>\n",
       "      <td>0</td>\n",
       "      <td>0</td>\n",
       "      <td>0</td>\n",
       "      <td>0</td>\n",
       "      <td>0</td>\n",
       "      <td>0</td>\n",
       "      <td>0</td>\n",
       "      <td>0</td>\n",
       "      <td>...</td>\n",
       "      <td>0</td>\n",
       "      <td>0</td>\n",
       "      <td>0</td>\n",
       "      <td>0</td>\n",
       "      <td>0</td>\n",
       "      <td>0</td>\n",
       "      <td>0</td>\n",
       "      <td>0</td>\n",
       "      <td>0</td>\n",
       "      <td>0</td>\n",
       "    </tr>\n",
       "    <tr>\n",
       "      <th>2</th>\n",
       "      <td>1</td>\n",
       "      <td>0</td>\n",
       "      <td>0</td>\n",
       "      <td>0</td>\n",
       "      <td>0</td>\n",
       "      <td>0</td>\n",
       "      <td>0</td>\n",
       "      <td>0</td>\n",
       "      <td>0</td>\n",
       "      <td>0</td>\n",
       "      <td>...</td>\n",
       "      <td>0</td>\n",
       "      <td>0</td>\n",
       "      <td>0</td>\n",
       "      <td>0</td>\n",
       "      <td>0</td>\n",
       "      <td>0</td>\n",
       "      <td>0</td>\n",
       "      <td>0</td>\n",
       "      <td>0</td>\n",
       "      <td>0</td>\n",
       "    </tr>\n",
       "    <tr>\n",
       "      <th>3</th>\n",
       "      <td>4</td>\n",
       "      <td>0</td>\n",
       "      <td>0</td>\n",
       "      <td>0</td>\n",
       "      <td>0</td>\n",
       "      <td>0</td>\n",
       "      <td>0</td>\n",
       "      <td>0</td>\n",
       "      <td>0</td>\n",
       "      <td>0</td>\n",
       "      <td>...</td>\n",
       "      <td>0</td>\n",
       "      <td>0</td>\n",
       "      <td>0</td>\n",
       "      <td>0</td>\n",
       "      <td>0</td>\n",
       "      <td>0</td>\n",
       "      <td>0</td>\n",
       "      <td>0</td>\n",
       "      <td>0</td>\n",
       "      <td>0</td>\n",
       "    </tr>\n",
       "    <tr>\n",
       "      <th>4</th>\n",
       "      <td>0</td>\n",
       "      <td>0</td>\n",
       "      <td>0</td>\n",
       "      <td>0</td>\n",
       "      <td>0</td>\n",
       "      <td>0</td>\n",
       "      <td>0</td>\n",
       "      <td>0</td>\n",
       "      <td>0</td>\n",
       "      <td>0</td>\n",
       "      <td>...</td>\n",
       "      <td>0</td>\n",
       "      <td>0</td>\n",
       "      <td>0</td>\n",
       "      <td>0</td>\n",
       "      <td>0</td>\n",
       "      <td>0</td>\n",
       "      <td>0</td>\n",
       "      <td>0</td>\n",
       "      <td>0</td>\n",
       "      <td>0</td>\n",
       "    </tr>\n",
       "  </tbody>\n",
       "</table>\n",
       "<p>5 rows × 785 columns</p>\n",
       "</div>"
      ],
      "text/plain": [
       "   label  pixel0  pixel1  pixel2  pixel3  pixel4  pixel5  pixel6  pixel7  \\\n",
       "0      1       0       0       0       0       0       0       0       0   \n",
       "1      0       0       0       0       0       0       0       0       0   \n",
       "2      1       0       0       0       0       0       0       0       0   \n",
       "3      4       0       0       0       0       0       0       0       0   \n",
       "4      0       0       0       0       0       0       0       0       0   \n",
       "\n",
       "   pixel8  ...  pixel774  pixel775  pixel776  pixel777  pixel778  pixel779  \\\n",
       "0       0  ...         0         0         0         0         0         0   \n",
       "1       0  ...         0         0         0         0         0         0   \n",
       "2       0  ...         0         0         0         0         0         0   \n",
       "3       0  ...         0         0         0         0         0         0   \n",
       "4       0  ...         0         0         0         0         0         0   \n",
       "\n",
       "   pixel780  pixel781  pixel782  pixel783  \n",
       "0         0         0         0         0  \n",
       "1         0         0         0         0  \n",
       "2         0         0         0         0  \n",
       "3         0         0         0         0  \n",
       "4         0         0         0         0  \n",
       "\n",
       "[5 rows x 785 columns]"
      ]
     },
     "execution_count": 5,
     "metadata": {},
     "output_type": "execute_result"
    }
   ],
   "source": [
    "#Viewing the dataset\n",
    "train.head()"
   ]
  },
  {
   "cell_type": "code",
   "execution_count": 6,
   "metadata": {
    "execution": {
     "iopub.execute_input": "2023-11-26T11:01:31.142943Z",
     "iopub.status.busy": "2023-11-26T11:01:31.142608Z",
     "iopub.status.idle": "2023-11-26T11:01:31.232960Z",
     "shell.execute_reply": "2023-11-26T11:01:31.231867Z"
    },
    "papermill": {
     "duration": 0.106423,
     "end_time": "2023-11-26T11:01:31.235585",
     "exception": false,
     "start_time": "2023-11-26T11:01:31.129162",
     "status": "completed"
    },
    "tags": []
   },
   "outputs": [],
   "source": [
    "#Defining the features and output for training data\n",
    "X_train = train.drop(labels = [\"label\"],axis = 1) \n",
    "y_train = train[\"label\"]"
   ]
  },
  {
   "cell_type": "code",
   "execution_count": 7,
   "metadata": {
    "execution": {
     "iopub.execute_input": "2023-11-26T11:01:31.262310Z",
     "iopub.status.busy": "2023-11-26T11:01:31.261384Z",
     "iopub.status.idle": "2023-11-26T11:01:31.313743Z",
     "shell.execute_reply": "2023-11-26T11:01:31.312704Z"
    },
    "papermill": {
     "duration": 0.067793,
     "end_time": "2023-11-26T11:01:31.316061",
     "exception": false,
     "start_time": "2023-11-26T11:01:31.248268",
     "status": "completed"
    },
    "tags": []
   },
   "outputs": [
    {
     "data": {
      "text/plain": [
       "label       0\n",
       "pixel0      0\n",
       "pixel1      0\n",
       "pixel2      0\n",
       "pixel3      0\n",
       "           ..\n",
       "pixel779    0\n",
       "pixel780    0\n",
       "pixel781    0\n",
       "pixel782    0\n",
       "pixel783    0\n",
       "Length: 785, dtype: int64"
      ]
     },
     "execution_count": 7,
     "metadata": {},
     "output_type": "execute_result"
    }
   ],
   "source": [
    "#Checking for null values\n",
    "#Training data\n",
    "train.isnull().sum()"
   ]
  },
  {
   "cell_type": "code",
   "execution_count": 8,
   "metadata": {
    "execution": {
     "iopub.execute_input": "2023-11-26T11:01:31.342613Z",
     "iopub.status.busy": "2023-11-26T11:01:31.342257Z",
     "iopub.status.idle": "2023-11-26T11:01:31.378892Z",
     "shell.execute_reply": "2023-11-26T11:01:31.377810Z"
    },
    "papermill": {
     "duration": 0.05219,
     "end_time": "2023-11-26T11:01:31.381071",
     "exception": false,
     "start_time": "2023-11-26T11:01:31.328881",
     "status": "completed"
    },
    "tags": []
   },
   "outputs": [
    {
     "data": {
      "text/plain": [
       "pixel0      0\n",
       "pixel1      0\n",
       "pixel2      0\n",
       "pixel3      0\n",
       "pixel4      0\n",
       "           ..\n",
       "pixel779    0\n",
       "pixel780    0\n",
       "pixel781    0\n",
       "pixel782    0\n",
       "pixel783    0\n",
       "Length: 784, dtype: int64"
      ]
     },
     "execution_count": 8,
     "metadata": {},
     "output_type": "execute_result"
    }
   ],
   "source": [
    "#Test data\n",
    "test.isnull().sum()"
   ]
  },
  {
   "cell_type": "code",
   "execution_count": 9,
   "metadata": {
    "execution": {
     "iopub.execute_input": "2023-11-26T11:01:31.432428Z",
     "iopub.status.busy": "2023-11-26T11:01:31.432066Z",
     "iopub.status.idle": "2023-11-26T11:01:31.528705Z",
     "shell.execute_reply": "2023-11-26T11:01:31.527544Z"
    },
    "papermill": {
     "duration": 0.112889,
     "end_time": "2023-11-26T11:01:31.531667",
     "exception": false,
     "start_time": "2023-11-26T11:01:31.418778",
     "status": "completed"
    },
    "tags": []
   },
   "outputs": [],
   "source": [
    "#Normalization\n",
    "X_train = X_train / 255.0\n",
    "test = test / 255.0"
   ]
  },
  {
   "cell_type": "code",
   "execution_count": 10,
   "metadata": {
    "execution": {
     "iopub.execute_input": "2023-11-26T11:01:31.584323Z",
     "iopub.status.busy": "2023-11-26T11:01:31.583944Z",
     "iopub.status.idle": "2023-11-26T11:01:31.589785Z",
     "shell.execute_reply": "2023-11-26T11:01:31.588875Z"
    },
    "papermill": {
     "duration": 0.022264,
     "end_time": "2023-11-26T11:01:31.592168",
     "exception": false,
     "start_time": "2023-11-26T11:01:31.569904",
     "status": "completed"
    },
    "tags": []
   },
   "outputs": [],
   "source": [
    "#Reshape image in 3 dimensions (height = 28px, width = 28px , canal = 1)\n",
    "X_train = X_train.values.reshape(-1,28,28,1)\n",
    "test = test.values.reshape(-1,28,28,1)"
   ]
  },
  {
   "cell_type": "code",
   "execution_count": 11,
   "metadata": {
    "execution": {
     "iopub.execute_input": "2023-11-26T11:01:31.645497Z",
     "iopub.status.busy": "2023-11-26T11:01:31.645159Z",
     "iopub.status.idle": "2023-11-26T11:01:31.650785Z",
     "shell.execute_reply": "2023-11-26T11:01:31.649783Z"
    },
    "papermill": {
     "duration": 0.021669,
     "end_time": "2023-11-26T11:01:31.653198",
     "exception": false,
     "start_time": "2023-11-26T11:01:31.631529",
     "status": "completed"
    },
    "tags": []
   },
   "outputs": [],
   "source": [
    "#Label Encoding\n",
    "#Encode labels to one hot vectors (ex : 2 -> [0,0,1,0,0,0,0,0,0,0])\n",
    "y_train = to_categorical(y_train, num_classes = 10)"
   ]
  },
  {
   "cell_type": "code",
   "execution_count": 12,
   "metadata": {
    "execution": {
     "iopub.execute_input": "2023-11-26T11:01:31.679625Z",
     "iopub.status.busy": "2023-11-26T11:01:31.679272Z",
     "iopub.status.idle": "2023-11-26T11:01:32.065661Z",
     "shell.execute_reply": "2023-11-26T11:01:32.064780Z"
    },
    "papermill": {
     "duration": 0.402636,
     "end_time": "2023-11-26T11:01:32.068385",
     "exception": false,
     "start_time": "2023-11-26T11:01:31.665749",
     "status": "completed"
    },
    "tags": []
   },
   "outputs": [],
   "source": [
    "#Splitting the trainng dataset as for training and the validation set\n",
    "X_train, X_val, y_train, y_val = train_test_split(X_train, y_train, test_size = 0.1, random_state=0)"
   ]
  },
  {
   "cell_type": "code",
   "execution_count": 13,
   "metadata": {
    "execution": {
     "iopub.execute_input": "2023-11-26T11:01:32.119085Z",
     "iopub.status.busy": "2023-11-26T11:01:32.118744Z",
     "iopub.status.idle": "2023-11-26T11:01:32.400791Z",
     "shell.execute_reply": "2023-11-26T11:01:32.399510Z"
    },
    "papermill": {
     "duration": 0.298111,
     "end_time": "2023-11-26T11:01:32.403405",
     "exception": false,
     "start_time": "2023-11-26T11:01:32.105294",
     "status": "completed"
    },
    "tags": []
   },
   "outputs": [
    {
     "data": {
      "image/png": "[encoded data removed]",
      "text/plain": [
       "<Figure size 640x480 with 1 Axes>"
      ]
     },
     "metadata": {},
     "output_type": "display_data"
    }
   ],
   "source": [
    "#Visualizing an example for better understanding the images in our dataset\n",
    "g = plt.imshow(X_train[8][:,:,0])"
   ]
  },
  {
   "cell_type": "code",
   "execution_count": 14,
   "metadata": {
    "execution": {
     "iopub.execute_input": "2023-11-26T11:01:32.456394Z",
     "iopub.status.busy": "2023-11-26T11:01:32.456022Z",
     "iopub.status.idle": "2023-11-26T11:01:37.164096Z",
     "shell.execute_reply": "2023-11-26T11:01:37.162891Z"
    },
    "papermill": {
     "duration": 4.724842,
     "end_time": "2023-11-26T11:01:37.166965",
     "exception": false,
     "start_time": "2023-11-26T11:01:32.442123",
     "status": "completed"
    },
    "tags": []
   },
   "outputs": [],
   "source": [
    "#Setting the CNN model \n",
    "#CNN architechture is In -> [[Conv2D->relu]*2 -> MaxPool2D -> Dropout]*2 -> Flatten -> Dense -> Dropout -> Out\n",
    "\n",
    "model = Sequential()\n",
    "\n",
    "model.add(Conv2D(filters = 32, kernel_size = (5,5),padding = 'Same', activation ='relu', input_shape = (28,28,1)))\n",
    "model.add(Conv2D(filters = 32, kernel_size = (5,5),padding = 'Same', activation ='relu'))\n",
    "model.add(MaxPool2D(pool_size=(2,2)))\n",
    "model.add(Dropout(0.25))\n",
    "model.add(Conv2D(filters = 64, kernel_size = (3,3),padding = 'Same', activation ='relu'))\n",
    "model.add(Conv2D(filters = 64, kernel_size = (3,3),padding = 'Same', activation ='relu'))\n",
    "model.add(MaxPool2D(pool_size=(2,2), strides=(2,2)))\n",
    "model.add(Dropout(0.25))\n",
    "model.add(Flatten())\n",
    "model.add(Dense(256, activation = \"relu\"))\n",
    "model.add(Dropout(0.5))\n",
    "model.add(Dense(10, activation = \"softmax\"))"
   ]
  },
  {
   "cell_type": "code",
   "execution_count": 16,
   "metadata": {
    "execution": {
     "iopub.execute_input": "2023-11-26T11:01:37.307825Z",
     "iopub.status.busy": "2023-11-26T11:01:37.307459Z",
     "iopub.status.idle": "2023-11-26T11:01:37.322078Z",
     "shell.execute_reply": "2023-11-26T11:01:37.321234Z"
    },
    "papermill": {
     "duration": 0.030786,
     "end_time": "2023-11-26T11:01:37.324397",
     "exception": false,
     "start_time": "2023-11-26T11:01:37.293611",
     "status": "completed"
    },
    "tags": []
   },
   "outputs": [],
   "source": [
    "#Compiling the model\n",
    "model.compile(optimizer = optimizer , loss = \"categorical_crossentropy\", metrics=[\"accuracy\"])"
   ]
  },
  {
   "cell_type": "code",
   "execution_count": 17,
   "metadata": {
    "execution": {
     "iopub.execute_input": "2023-11-26T11:01:37.376812Z",
     "iopub.status.busy": "2023-11-26T11:01:37.376450Z",
     "iopub.status.idle": "2023-11-26T11:01:37.381750Z",
     "shell.execute_reply": "2023-11-26T11:01:37.380728Z"
    },
    "papermill": {
     "duration": 0.021145,
     "end_time": "2023-11-26T11:01:37.384188",
     "exception": false,
     "start_time": "2023-11-26T11:01:37.363043",
     "status": "completed"
    },
    "tags": []
   },
   "outputs": [],
   "source": [
    "#Setting the Annealer\n",
    "learning_rate_reduction = ReduceLROnPlateau(monitor='val_acc', patience=3, verbose=1, factor=0.5, min_lr=0.00001)"
   ]
  },
  {
   "cell_type": "code",
   "execution_count": 18,
   "metadata": {
    "execution": {
     "iopub.execute_input": "2023-11-26T11:01:37.437882Z",
     "iopub.status.busy": "2023-11-26T11:01:37.437259Z",
     "iopub.status.idle": "2023-11-26T11:01:37.441719Z",
     "shell.execute_reply": "2023-11-26T11:01:37.440697Z"
    },
    "papermill": {
     "duration": 0.020771,
     "end_time": "2023-11-26T11:01:37.444104",
     "exception": false,
     "start_time": "2023-11-26T11:01:37.423333",
     "status": "completed"
    },
    "tags": []
   },
   "outputs": [],
   "source": [
    "epochs = 1 \n",
    "batch_size = 86"
   ]
  },
  {
   "cell_type": "code",
   "execution_count": 19,
   "metadata": {
    "execution": {
     "iopub.execute_input": "2023-11-26T11:01:37.497202Z",
     "iopub.status.busy": "2023-11-26T11:01:37.496861Z",
     "iopub.status.idle": "2023-11-26T11:01:54.353911Z",
     "shell.execute_reply": "2023-11-26T11:01:54.352940Z"
    },
    "papermill": {
     "duration": 16.873909,
     "end_time": "2023-11-26T11:01:54.356549",
     "exception": false,
     "start_time": "2023-11-26T11:01:37.482640",
     "status": "completed"
    },
    "tags": []
   },
   "outputs": [
    {
     "name": "stdout",
     "output_type": "stream",
     "text": [
      "440/440 - 16s - loss: 0.2520 - accuracy: 0.9196 - val_loss: 0.0694 - val_accuracy: 0.9788 - 16s/epoch - 37ms/step\n"
     ]
    }
   ],
   "source": [
    "#Fitting the model to the training set\n",
    "history = model.fit(X_train, y_train, batch_size = batch_size, epochs = epochs, validation_data = (X_val, y_val), verbose = 2)"
   ]
  },
  {
   "cell_type": "code",
   "execution_count": 20,
   "metadata": {
    "execution": {
     "iopub.execute_input": "2023-11-26T11:01:54.409482Z",
     "iopub.status.busy": "2023-11-26T11:01:54.409139Z",
     "iopub.status.idle": "2023-11-26T11:01:55.900525Z",
     "shell.execute_reply": "2023-11-26T11:01:55.899366Z"
    },
    "papermill": {
     "duration": 1.507418,
     "end_time": "2023-11-26T11:01:55.902887",
     "exception": false,
     "start_time": "2023-11-26T11:01:54.395469",
     "status": "completed"
    },
    "tags": []
   },
   "outputs": [
    {
     "name": "stdout",
     "output_type": "stream",
     "text": [
      "132/132 [==============================] - 1s 3ms/step\n"
     ]
    },
    {
     "data": {
      "image/png": "[encoded data removed]",
      "text/plain": [
       "<Figure size 640x480 with 2 Axes>"
      ]
     },
     "metadata": {},
     "output_type": "display_data"
    }
   ],
   "source": [
    "#CONFUSION MATRIX\n",
    "\n",
    "#Defining a function for confusion matrix\n",
    "def plot_confusion_matrix(cm, classes,\n",
    "                          normalize=False,\n",
    "                          title='Confusion matrix',\n",
    "                          cmap=plt.cm.Blues):\n",
    "    \"\"\"\n",
    "    This function prints and plots the confusion matrix.\n",
    "    Normalization can be applied by setting `normalize=True`.\n",
    "    \"\"\"\n",
    "    plt.imshow(cm, interpolation='nearest', cmap=cmap)\n",
    "    plt.title(title)\n",
    "    plt.colorbar()\n",
    "    tick_marks = np.arange(len(classes))\n",
    "    plt.xticks(tick_marks, classes, rotation=45)\n",
    "    plt.yticks(tick_marks, classes)\n",
    "\n",
    "    if normalize:\n",
    "        cm = cm.astype('float') / cm.sum(axis=1)[:, np.newaxis]\n",
    "\n",
    "    thresh = cm.max() / 2.\n",
    "    for i, j in itertools.product(range(cm.shape[0]), range(cm.shape[1])):\n",
    "        plt.text(j, i, cm[i, j],\n",
    "                 horizontalalignment=\"center\",\n",
    "                 color=\"white\" if cm[i, j] > thresh else \"black\")\n",
    "\n",
    "    plt.tight_layout()\n",
    "    plt.ylabel('True label')\n",
    "    plt.xlabel('Predicted label')\n",
    "\n",
    "#Predicting the values from the validation dataset\n",
    "y_pred = model.predict(X_val)\n",
    "#Converting predictions classes to one hot vectors \n",
    "y_pred_classes = np.argmax(y_pred,axis = 1) \n",
    "#Converting validation observations to one hot vectors\n",
    "y_true = np.argmax(y_val,axis = 1) \n",
    "#Computing the confusion matrix\n",
    "confusion_mtx = confusion_matrix(y_true, y_pred_classes) \n",
    "#Plotting the confusion matrix\n",
    "plot_confusion_matrix(confusion_mtx, classes = range(10)) "
   ]
  },
  {
   "cell_type": "code",
   "execution_count": 21,
   "metadata": {
    "execution": {
     "iopub.execute_input": "2023-11-26T11:01:55.933317Z",
     "iopub.status.busy": "2023-11-26T11:01:55.932987Z",
     "iopub.status.idle": "2023-11-26T11:01:56.635196Z",
     "shell.execute_reply": "2023-11-26T11:01:56.634022Z"
    },
    "papermill": {
     "duration": 0.720882,
     "end_time": "2023-11-26T11:01:56.638128",
     "exception": false,
     "start_time": "2023-11-26T11:01:55.917246",
     "status": "completed"
    },
    "tags": []
   },
   "outputs": [
    {
     "data": {
      "image/png": "[encoded data removed]",
      "text/plain": [
       "<Figure size 1000x1000 with 12 Axes>"
      ]
     },
     "metadata": {},
     "output_type": "display_data"
    }
   ],
   "source": [
    "#To display some error results \n",
    "\n",
    "errors = (y_pred_classes - y_true != 0)\n",
    "\n",
    "y_pred_classes_errors = y_pred_classes[errors]\n",
    "y_pred_errors = y_pred[errors]\n",
    "y_true_errors = y_true[errors]\n",
    "X_val_errors = X_val[errors]\n",
    "\n",
    "#Defining a function for plotting the erros results\n",
    "def display_errors(errors_index, img_errors, pred_errors, obs_errors):\n",
    "    \"\"\" This function shows 12 images with their predicted and real labels\"\"\"\n",
    "    nrows = 4\n",
    "    ncols = 3\n",
    "    fig, ax = plt.subplots(nrows, ncols, figsize=(10, 10))\n",
    "    fig.subplots_adjust(hspace=0.5)\n",
    "    for i, axi in enumerate(ax.flat):\n",
    "        if i < len(errors_index):\n",
    "            error = errors_index[i]\n",
    "            axi.imshow((img_errors[error]).reshape((28,28)))\n",
    "            axi.set_title(\"Predicted label: {}\\nTrue label: {}\".format(pred_errors[error], obs_errors[error]))\n",
    "        axi.set_xticks([])\n",
    "        axi.set_yticks([])\n",
    "\n",
    "# Probabilities of the wrong predicted numbers\n",
    "y_pred_errors_prob = np.max(y_pred_errors, axis=1)\n",
    "\n",
    "# Predicted probabilities of the true values in the error set\n",
    "true_prob_errors = np.diagonal(np.take(y_pred_errors, y_true_errors, axis=1))\n",
    "\n",
    "# Difference between the probability of the predicted label and the true label\n",
    "delta_pred_true_errors = y_pred_errors_prob - true_prob_errors\n",
    "\n",
    "# Sorted list of the delta prob errors\n",
    "sorted_delta_errors = np.argsort(delta_pred_true_errors)\n",
    "\n",
    "# Top 12 errors\n",
    "most_important_errors = sorted_delta_errors[-12:]\n",
    "\n",
    "# Displaying the top 12 errors\n",
    "display_errors(most_important_errors, X_val_errors, y_pred_classes_errors, y_true_errors)"
   ]
  },
  {
   "cell_type": "code",
   "execution_count": 22,
   "metadata": {
    "execution": {
     "iopub.execute_input": "2023-11-26T11:01:56.670845Z",
     "iopub.status.busy": "2023-11-26T11:01:56.670403Z",
     "iopub.status.idle": "2023-11-26T11:01:59.218383Z",
     "shell.execute_reply": "2023-11-26T11:01:59.217302Z"
    },
    "papermill": {
     "duration": 2.567002,
     "end_time": "2023-11-26T11:01:59.220871",
     "exception": false,
     "start_time": "2023-11-26T11:01:56.653869",
     "status": "completed"
    },
    "tags": []
   },
   "outputs": [
    {
     "name": "stdout",
     "output_type": "stream",
     "text": [
      "875/875 [==============================] - 2s 2ms/step\n"
     ]
    },
    {
     "data": {
      "text/plain": [
       "0        2\n",
       "1        0\n",
       "2        9\n",
       "3        9\n",
       "4        3\n",
       "        ..\n",
       "27995    9\n",
       "27996    7\n",
       "27997    3\n",
       "27998    9\n",
       "27999    2\n",
       "Name: Label, Length: 28000, dtype: int64"
      ]
     },
     "execution_count": 22,
     "metadata": {},
     "output_type": "execute_result"
    }
   ],
   "source": [
    "# predicting the results\n",
    "results = model.predict(test)\n",
    "\n",
    "# selecting the indix with the maximum probability\n",
    "results = np.argmax(results,axis = 1)\n",
    "\n",
    "results = pd.Series(results,name=\"Label\")\n",
    "results"
   ]
  },
  {
   "cell_type": "code",
   "execution_count": 23,
   "metadata": {
    "execution": {
     "iopub.execute_input": "2023-11-26T11:01:59.261014Z",
     "iopub.status.busy": "2023-11-26T11:01:59.260644Z",
     "iopub.status.idle": "2023-11-26T11:01:59.317952Z",
     "shell.execute_reply": "2023-11-26T11:01:59.316933Z"
    },
    "papermill": {
     "duration": 0.079919,
     "end_time": "2023-11-26T11:01:59.320457",
     "exception": false,
     "start_time": "2023-11-26T11:01:59.240538",
     "status": "completed"
    },
    "tags": []
   },
   "outputs": [],
   "source": [
    "submission = pd.concat([pd.Series(range(1,28001),name = \"ImageId\"),results],axis = 1)\n",
    "submission.to_csv(\"submission.csv\",index=False)"
   ]
  },
  {
   "cell_type": "code",
   "execution_count": null,
   "metadata": {
    "papermill": {
     "duration": 0.018511,
     "end_time": "2023-11-26T11:01:59.357839",
     "exception": false,
     "start_time": "2023-11-26T11:01:59.339328",
     "status": "completed"
    },
    "tags": []
   },
   "outputs": [],
   "source": []
  }
 ],
 "metadata": {
  "kaggle": {
   "accelerator": "nvidiaTeslaT4",
   "dataSources": [
    {
     "databundleVersionId": 861823,
     "sourceId": 3004,
     "sourceType": "competition"
    }
   ],
   "dockerImageVersionId": 30397,
   "isGpuEnabled": true,
   "isInternetEnabled": true,
   "language": "python",
   "sourceType": "notebook"
  },
  "kernelspec": {
   "display_name": "Python 3",
   "language": "python",
   "name": "python3"
  },
  "language_info": {
   "codemirror_mode": {
    "name": "ipython",
    "version": 3
   },
   "file_extension": ".py",
   "mimetype": "text/x-python",
   "name": "python",
   "nbconvert_exporter": "python",
   "pygments_lexer": "ipython3",
   "version": "3.8.3"
  },
  "papermill": {
   "default_parameters": {},
   "duration": 64.370312,
   "end_time": "2023-11-26T11:02:02.832382",
   "environment_variables": {},
   "exception": null,
   "input_path": "__notebook__.ipynb",
   "output_path": "__notebook__.ipynb",
   "parameters": {},
   "start_time": "2023-11-26T11:00:58.462070",
   "version": "2.3.4"
  }
 },
 "nbformat": 4,
 "nbformat_minor": 5
}
